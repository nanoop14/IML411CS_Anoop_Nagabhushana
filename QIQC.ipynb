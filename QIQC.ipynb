{
 "cells": [
  {
   "cell_type": "code",
   "execution_count": 2,
   "metadata": {},
   "outputs": [],
   "source": [
    "import pandas as pd\n",
    "import data\n",
    "import Models\n",
    "train = pd.read_csv(\"input/train.csv\", header=0,\\\n",
    "                    delimiter=\",\")\n",
    "\n",
    "test = pd.read_csv(\"input/test.csv\",header=0,\\\n",
    "                    delimiter=\",\")"
   ]
  },
  {
   "cell_type": "code",
   "execution_count": 6,
   "metadata": {},
   "outputs": [],
   "source": [
    "#Already cleaned and Preprocessed Data:\n",
    "\n",
    "x_train,y_train,x_val,y_val,x_test,y_test=data.load_preprocessed_data()\n",
    "\n",
    "#for new Data:\n",
    "#if cleaning new data:\n",
    "#preprocessing includes:\n",
    "# 1. clean the testual information(Eg: Remove html, number tags etc)\n",
    "# 2. convert words to vectors by using w2v model\n",
    "# 3. balance the data if there exist class imbalance\n",
    "# 4. Split into train dev and test with 80-10-10 percent\n",
    "data.analyse_data(train)\n",
    "x_train,y_train,x_val,y_val,x_test,y_test=data.preprocess_data(train)"
   ]
  },
  {
   "cell_type": "code",
   "execution_count": 9,
   "metadata": {},
   "outputs": [
    {
     "name": "stderr",
     "output_type": "stream",
     "text": [
      "/Users/anoopnagabhushan/anaconda3/lib/python3.6/site-packages/h5py/__init__.py:36: FutureWarning: Conversion of the second argument of issubdtype from `float` to `np.floating` is deprecated. In future, it will be treated as `np.float64 == np.dtype(float).type`.\n",
      "  from ._conv import register_converters as _register_converters\n",
      "/Users/anoopnagabhushan/anaconda3/lib/python3.6/site-packages/sklearn/cross_validation.py:41: DeprecationWarning: This module was deprecated in version 0.18 in favor of the model_selection module into which all the refactored classes and functions are moved. Also note that the interface of the new CV iterators are different from that of this module. This module will be removed in 0.20.\n",
      "  \"This module will be removed in 0.20.\", DeprecationWarning)\n"
     ]
    }
   ],
   "source": [
    "#These will give an idea of how each model is performing on given data\n",
    "Models.run_adaboost(x_train,y_train,x_val,y_val,x_test,y_test)\n",
    "Models.run_lr(x_train,y_train,x_val,y_val,x_test,y_test)\n",
    "Models.run_rf(x_train,y_train,x_val,y_val,x_test,y_test)\n",
    "Models.run_nn(x_train,y_train,x_val,y_val,x_test,y_test)\n",
    "#fine tune parameters to get the best model for the given data.\n"
   ]
  },
  {
   "cell_type": "code",
   "execution_count": null,
   "metadata": {},
   "outputs": [],
   "source": []
  }
 ],
 "metadata": {
  "kernelspec": {
   "display_name": "Python 3",
   "language": "python",
   "name": "python3"
  },
  "language_info": {
   "codemirror_mode": {
    "name": "ipython",
    "version": 3
   },
   "file_extension": ".py",
   "mimetype": "text/x-python",
   "name": "python",
   "nbconvert_exporter": "python",
   "pygments_lexer": "ipython3",
   "version": "3.6.5"
  }
 },
 "nbformat": 4,
 "nbformat_minor": 2
}
